{
  "nbformat": 4,
  "nbformat_minor": 0,
  "metadata": {
    "colab": {
      "provenance": []
    },
    "kernelspec": {
      "name": "python3",
      "display_name": "Python 3"
    },
    "language_info": {
      "name": "python"
    }
  },
  "cells": [
    {
      "cell_type": "markdown",
      "source": [
        "#Practical Questions\n",
        "\n",
        "1.  How can you open a file for writing in Python and write a string to it?"
      ],
      "metadata": {
        "id": "TGFN15bawJ3M"
      }
    },
    {
      "cell_type": "code",
      "execution_count": null,
      "metadata": {
        "id": "AttVdlMZvs9r"
      },
      "outputs": [],
      "source": [
        "# Open a file in write mode\n",
        "with open('example.txt', 'w') as file:\n",
        "    # Write a string to the file\n",
        "    file.write('Hello, this is a sample string.')\n",
        "\n",
        "# The file is automatically closed when the with block ends"
      ]
    },
    {
      "cell_type": "markdown",
      "source": [
        "2. Write a Python program to read the contents of a file and print each line."
      ],
      "metadata": {
        "id": "TiwYfnrCw6ny"
      }
    },
    {
      "cell_type": "code",
      "source": [
        "# Open the file in read mode\n",
        "with open('example.txt', 'r') as file:\n",
        "    # Iterate over each line in the file\n",
        "    for line in file:\n",
        "        # Print the line\n",
        "        print(line, end='')\n",
        "\n",
        "# The file is automatically closed when the with block ends"
      ],
      "metadata": {
        "colab": {
          "base_uri": "https://localhost:8080/"
        },
        "id": "ig5TC2jyweWk",
        "outputId": "2961727d-6725-4030-be2f-325c8d6b52f2"
      },
      "execution_count": null,
      "outputs": [
        {
          "output_type": "stream",
          "name": "stdout",
          "text": [
            "Hello, this is a sample string."
          ]
        }
      ]
    },
    {
      "cell_type": "markdown",
      "source": [
        "3.  How would you handle a case where the file doesn't exist while trying to open it for reading?"
      ],
      "metadata": {
        "id": "45jOFZU1xIFI"
      }
    },
    {
      "cell_type": "code",
      "source": [
        "try:\n",
        "    # Attempt to open the file in read mode\n",
        "    with open('nonexistent_file.txt', 'r') as file:\n",
        "        # Iterate over each line in the file\n",
        "        for line in file:\n",
        "            # Print the line\n",
        "            print(line, end='')\n",
        "except FileNotFoundError:\n",
        "    # Handle the case where the file doesn't exist\n",
        "    print(\"The file does not exist. Please check the file name and try again.\")"
      ],
      "metadata": {
        "colab": {
          "base_uri": "https://localhost:8080/"
        },
        "id": "OGgvdWvIxFQy",
        "outputId": "a96d2fe4-a594-4b9e-850e-425fa2594b1e"
      },
      "execution_count": null,
      "outputs": [
        {
          "output_type": "stream",
          "name": "stdout",
          "text": [
            "The file does not exist. Please check the file name and try again.\n"
          ]
        }
      ]
    },
    {
      "cell_type": "markdown",
      "source": [
        "4. Write a Python script that reads from one file and writes its content to another file."
      ],
      "metadata": {
        "id": "-wiDb68pxYJ3"
      }
    },
    {
      "cell_type": "code",
      "source": [
        "# Open the source file in read mode\n",
        "with open('example.txt', 'r') as source_file:\n",
        "    # Read the contents of the source file\n",
        "    content = source_file.read()\n",
        "\n",
        "# Open the destination file in write mode\n",
        "with open('destination.txt', 'w') as destination_file:\n",
        "    # Write the contents to the destination file\n",
        "    destination_file.write(content)\n",
        "\n",
        "print(\"Content copied from source.txt to destination.txt successfully.\")"
      ],
      "metadata": {
        "colab": {
          "base_uri": "https://localhost:8080/"
        },
        "id": "Vn5-ENtSxS4R",
        "outputId": "bb2b6c5c-edd3-4525-ee4f-f040f5283ac1"
      },
      "execution_count": null,
      "outputs": [
        {
          "output_type": "stream",
          "name": "stdout",
          "text": [
            "Content copied from source.txt to destination.txt successfully.\n"
          ]
        }
      ]
    },
    {
      "cell_type": "markdown",
      "source": [
        "5.  How would you catch and handle division by zero error in Python?"
      ],
      "metadata": {
        "id": "Re1t6l0-x6PR"
      }
    },
    {
      "cell_type": "code",
      "source": [
        "try:\n",
        "    # Attempt to perform a division operation\n",
        "    result = 10 / 0\n",
        "except ZeroDivisionError:\n",
        "    # Handle the division by zero error\n",
        "    print(\"Error: Division by zero is not allowed.\")\n",
        "else:\n",
        "    # This block will execute if no exception occurs\n",
        "    print(\"The result is:\", result)\n",
        "finally:\n",
        "    # This block will always execute, regardless of an exception occurring or not\n",
        "    print(\"Division operation completed.\")"
      ],
      "metadata": {
        "colab": {
          "base_uri": "https://localhost:8080/"
        },
        "id": "rBdXzP_ZxgVg",
        "outputId": "318e8e4f-8e43-48af-a030-a1509caf902e"
      },
      "execution_count": null,
      "outputs": [
        {
          "output_type": "stream",
          "name": "stdout",
          "text": [
            "Error: Division by zero is not allowed.\n",
            "Division operation completed.\n"
          ]
        }
      ]
    },
    {
      "cell_type": "markdown",
      "source": [
        "6. Write a Python program that logs an error message to a log file when a division by zero exception occurs."
      ],
      "metadata": {
        "id": "UeKVWNrryEHm"
      }
    },
    {
      "cell_type": "code",
      "source": [
        "import logging\n",
        "\n",
        "# Configure the logging settings\n",
        "logging.basicConfig(filename='error.log', level=logging.ERROR, format='%(asctime)s - %(levelname)s - %(message)s')\n",
        "\n",
        "try:\n",
        "    # Attempt to perform a division operation\n",
        "    result = 10 / 0\n",
        "except ZeroDivisionError:\n",
        "    # Log the error message to the log file\n",
        "    logging.error(\"Error: Division by zero is not allowed.\")\n",
        "else:\n",
        "    # This block will execute if no exception occurs\n",
        "    print(\"The result is:\", result)\n",
        "finally:\n",
        "    # This block will always execute, regardless of an exception occurring or not\n",
        "    print(\"Division operation completed.\")"
      ],
      "metadata": {
        "colab": {
          "base_uri": "https://localhost:8080/"
        },
        "id": "PcFDVtLbyBqP",
        "outputId": "781c4838-fb39-48ae-9ff3-2c8181230217"
      },
      "execution_count": null,
      "outputs": [
        {
          "output_type": "stream",
          "name": "stderr",
          "text": [
            "ERROR:root:Error: Division by zero is not allowed.\n"
          ]
        },
        {
          "output_type": "stream",
          "name": "stdout",
          "text": [
            "Division operation completed.\n"
          ]
        }
      ]
    },
    {
      "cell_type": "markdown",
      "source": [
        "7. How do you log information at different levels (INFO, ERROR, WARNING) in Python using the logging module?"
      ],
      "metadata": {
        "id": "ahydXVS7yPPH"
      }
    },
    {
      "cell_type": "code",
      "source": [
        "import logging\n",
        "\n",
        "# Configure the logging settings\n",
        "logging.basicConfig(filename='application.log', level=logging.DEBUG, format='%(asctime)s - %(levelname)s - %(message)s')\n",
        "\n",
        "# Log messages at different levels\n",
        "logging.debug('This is a debug message.')\n",
        "logging.info('This is an info message.')\n",
        "logging.warning('This is a warning message.')\n",
        "logging.error('This is an error message.')\n",
        "logging.critical('This is a critical message.')"
      ],
      "metadata": {
        "colab": {
          "base_uri": "https://localhost:8080/"
        },
        "id": "T4arKLrJyMKP",
        "outputId": "34c2100f-a7b7-47e3-81af-a1e2f6cb761d"
      },
      "execution_count": null,
      "outputs": [
        {
          "output_type": "stream",
          "name": "stderr",
          "text": [
            "WARNING:root:This is a warning message.\n",
            "ERROR:root:This is an error message.\n",
            "CRITICAL:root:This is a critical message.\n"
          ]
        }
      ]
    },
    {
      "cell_type": "markdown",
      "source": [
        "8. Write a program to handle a file opening error using exception handling."
      ],
      "metadata": {
        "id": "YvUI23sdyYXm"
      }
    },
    {
      "cell_type": "code",
      "source": [
        "try:\n",
        "    # Attempt to open the file in read mode\n",
        "    with open('example.txt', 'r') as file:\n",
        "        # Read the contents of the file\n",
        "        content = file.read()\n",
        "        print(content)\n",
        "except FileNotFoundError:\n",
        "    # Handle the case where the file doesn't exist\n",
        "    print(\"Error: The file 'example.txt' does not exist. Please check the file name and try again.\")\n",
        "except IOError:\n",
        "    # Handle other input/output errors\n",
        "    print(\"Error: An I/O error occurred while opening the file.\")\n",
        "else:\n",
        "    # This block will execute if no exception occurs\n",
        "    print(\"File opened and read successfully.\")\n",
        "finally:\n",
        "    # This block will always execute, regardless of an exception occurring or not\n",
        "    print(\"File operation completed.\")"
      ],
      "metadata": {
        "colab": {
          "base_uri": "https://localhost:8080/"
        },
        "id": "QFRZCL6oyWXW",
        "outputId": "a5a5df7f-5c34-45b2-dadd-95bb1b79ff69"
      },
      "execution_count": null,
      "outputs": [
        {
          "output_type": "stream",
          "name": "stdout",
          "text": [
            "Hello, this is a sample string.\n",
            "File opened and read successfully.\n",
            "File operation completed.\n"
          ]
        }
      ]
    },
    {
      "cell_type": "markdown",
      "source": [
        "9. How can you read a file line by line and store its content in a list in Python?"
      ],
      "metadata": {
        "id": "Kle_O5C9yite"
      }
    },
    {
      "cell_type": "code",
      "source": [
        "# Open the file in read mode\n",
        "with open('example.txt', 'r') as file:\n",
        "    # Read each line and store it in a list\n",
        "    lines = file.readlines()\n",
        "\n",
        "# Now the 'lines' list contains each line from the file as a separate element\n",
        "print(lines)"
      ],
      "metadata": {
        "colab": {
          "base_uri": "https://localhost:8080/"
        },
        "id": "GgtdnJ2ayfzm",
        "outputId": "ba45cdc5-29ac-40ee-a861-aee81b21fb44"
      },
      "execution_count": null,
      "outputs": [
        {
          "output_type": "stream",
          "name": "stdout",
          "text": [
            "['Hello, this is a sample string.']\n"
          ]
        }
      ]
    },
    {
      "cell_type": "markdown",
      "source": [
        "10.  How can you append data to an existing file in Python?"
      ],
      "metadata": {
        "id": "2IexRLq8yrhr"
      }
    },
    {
      "cell_type": "code",
      "source": [
        "# Open the file in append mode\n",
        "with open('example.txt', 'a') as file:\n",
        "    # Write the new data to the file\n",
        "    file.write('This is the new data that will be appended.\\n')\n",
        "\n",
        "print(\"Data appended to the file successfully.\")"
      ],
      "metadata": {
        "colab": {
          "base_uri": "https://localhost:8080/"
        },
        "id": "43qPGwa4yome",
        "outputId": "10e78c73-a673-46a5-9ce9-ce576a8c44a4"
      },
      "execution_count": null,
      "outputs": [
        {
          "output_type": "stream",
          "name": "stdout",
          "text": [
            "Data appended to the file successfully.\n"
          ]
        }
      ]
    },
    {
      "cell_type": "markdown",
      "source": [
        "11.  Write a Python program that uses a try-except block to handle an error when attempting to access a\n",
        "dictionary key that doesn't exist."
      ],
      "metadata": {
        "id": "abKzel16yve9"
      }
    },
    {
      "cell_type": "code",
      "source": [
        "# Define a sample dictionary\n",
        "sample_dict = {'name': 'Alice', 'age': 30, 'city': 'New York'}\n",
        "\n",
        "try:\n",
        "    # Attempt to access a key that doesn't exist\n",
        "    value = sample_dict['country']\n",
        "except KeyError:\n",
        "    # Handle the case where the key doesn't exist\n",
        "    print(\"Error: The key 'country' does not exist in the dictionary.\")\n",
        "else:\n",
        "    # This block will execute if no exception occurs\n",
        "    print(\"The value is:\", value)\n",
        "finally:\n",
        "    # This block will always execute, regardless of an exception occurring or not\n",
        "    print(\"Dictionary access attempt completed.\")"
      ],
      "metadata": {
        "colab": {
          "base_uri": "https://localhost:8080/"
        },
        "id": "n1zHKSbbyueW",
        "outputId": "686a83ae-4784-42cf-c8bd-8f423e947747"
      },
      "execution_count": null,
      "outputs": [
        {
          "output_type": "stream",
          "name": "stdout",
          "text": [
            "Error: The key 'country' does not exist in the dictionary.\n",
            "Dictionary access attempt completed.\n"
          ]
        }
      ]
    },
    {
      "cell_type": "markdown",
      "source": [
        "12. Write a program that demonstrates using multiple except blocks to handle different types of exceptions."
      ],
      "metadata": {
        "id": "W6DoNuUiy2Wc"
      }
    },
    {
      "cell_type": "code",
      "source": [
        "try:\n",
        "    # Attempt to perform various operations\n",
        "    num1 = int(input(\"Enter the numerator: \"))\n",
        "    num2 = int(input(\"Enter the denominator: \"))\n",
        "    result = num1 / num2\n",
        "\n",
        "    # Access an element in a list\n",
        "    my_list = [1, 2, 3]\n",
        "    index = int(input(\"Enter an index: \"))\n",
        "    element = my_list[index]\n",
        "\n",
        "    print(\"The result of the division is:\", result)\n",
        "    print(\"The element at the specified index is:\", element)\n",
        "except ZeroDivisionError:\n",
        "    # Handle the division by zero error\n",
        "    print(\"Error: Division by zero is not allowed.\")\n",
        "except ValueError:\n",
        "    # Handle the value error\n",
        "    print(\"Error: Invalid input. Please enter a valid number.\")\n",
        "except IndexError:\n",
        "    # Handle the index error\n",
        "    print(\"Error: Index out of range. Please enter a valid index.\")\n",
        "else:\n",
        "    # This block will execute if no exception occurs\n",
        "    print(\"Operations completed successfully.\")\n",
        "finally:\n",
        "    # This block will always execute, regardless of an exception occurring or not\n",
        "    print(\"Exception handling demonstration completed.\")"
      ],
      "metadata": {
        "colab": {
          "base_uri": "https://localhost:8080/"
        },
        "id": "yhZTWwQXy1em",
        "outputId": "148d5088-b62d-48de-e173-431a5e97aafa"
      },
      "execution_count": null,
      "outputs": [
        {
          "output_type": "stream",
          "name": "stdout",
          "text": [
            "Enter the numerator: 5\n",
            "Enter the denominator: 6\n",
            "Enter an index: 2\n",
            "The result of the division is: 0.8333333333333334\n",
            "The element at the specified index is: 3\n",
            "Operations completed successfully.\n",
            "Exception handling demonstration completed.\n"
          ]
        }
      ]
    },
    {
      "cell_type": "markdown",
      "source": [
        "13. How would you check if a file exists before attempting to read it in Python?"
      ],
      "metadata": {
        "id": "aQiqPvlozJi0"
      }
    },
    {
      "cell_type": "code",
      "source": [
        "import os\n",
        "\n",
        "# Define the file path\n",
        "file_path = 'example.txt'\n",
        "\n",
        "# Check if the file exists\n",
        "if os.path.exists(file_path):\n",
        "    # Open and read the file\n",
        "    with open(file_path, 'r') as file:\n",
        "        content = file.read()\n",
        "        print(content)\n",
        "else:\n",
        "    print(f\"Error: The file '{file_path}' does not exist.\")"
      ],
      "metadata": {
        "colab": {
          "base_uri": "https://localhost:8080/"
        },
        "id": "pyJpxwq2zCJ9",
        "outputId": "7b064526-3f09-484c-9345-3b8b17f3d403"
      },
      "execution_count": null,
      "outputs": [
        {
          "output_type": "stream",
          "name": "stdout",
          "text": [
            "Hello, this is a sample string.This is the new data that will be appended.\n",
            "\n"
          ]
        }
      ]
    },
    {
      "cell_type": "markdown",
      "source": [
        "14. Write a program that uses the logging module to log both informational and error messages."
      ],
      "metadata": {
        "id": "M3Eu0V_BzVpc"
      }
    },
    {
      "cell_type": "code",
      "source": [
        "import logging\n",
        "\n",
        "# Configure the logging settings\n",
        "logging.basicConfig(filename='app.log', level=logging.DEBUG, format='%(asctime)s - %(levelname)s - %(message)s')\n",
        "\n",
        "try:\n",
        "    # Log an informational message\n",
        "    logging.info('This is an informational message.')\n",
        "\n",
        "    # Attempt to perform a division operation\n",
        "    num1 = 10\n",
        "    num2 = 0\n",
        "    result = num1 / num2\n",
        "\n",
        "except ZeroDivisionError:\n",
        "    # Log an error message when division by zero occurs\n",
        "    logging.error('Error: Division by zero is not allowed.')\n",
        "\n",
        "else:\n",
        "    # Log an informational message when division is successful\n",
        "    logging.info('The result of the division is: %s', result)\n",
        "\n",
        "finally:\n",
        "    # Log an informational message indicating the end of the operation\n",
        "    logging.info('Division operation completed.')\n",
        "\n",
        "print(\"Logging of informational and error messages is done. Check the 'app.log' file for details.\")"
      ],
      "metadata": {
        "colab": {
          "base_uri": "https://localhost:8080/"
        },
        "id": "UyIXjFtQzP3k",
        "outputId": "af48cb94-9797-4b46-ae5c-64f7cbd60402"
      },
      "execution_count": null,
      "outputs": [
        {
          "output_type": "stream",
          "name": "stderr",
          "text": [
            "ERROR:root:Error: Division by zero is not allowed.\n"
          ]
        },
        {
          "output_type": "stream",
          "name": "stdout",
          "text": [
            "Logging of informational and error messages is done. Check the 'app.log' file for details.\n"
          ]
        }
      ]
    },
    {
      "cell_type": "markdown",
      "source": [
        "15.  Write a Python program that prints the content of a file and handles the case when the file is empty."
      ],
      "metadata": {
        "id": "s6XeUXA8zeiL"
      }
    },
    {
      "cell_type": "code",
      "source": [
        "def read_and_print_file(file_path):\n",
        "    try:\n",
        "        # Open the file in read mode\n",
        "        with open(file_path, 'r') as file:\n",
        "            # Read the contents of the file\n",
        "            content = file.read()\n",
        "            if content:\n",
        "                print(content)\n",
        "            else:\n",
        "                print(\"The file is empty.\")\n",
        "    except FileNotFoundError:\n",
        "        # Handle the case where the file doesn't exist\n",
        "        print(f\"Error: The file '{file_path}' does not exist. Please check the file name and try again.\")\n",
        "    except IOError:\n",
        "        # Handle other input/output errors\n",
        "        print(\"Error: An I/O error occurred while opening the file.\")\n",
        "\n",
        "# Provide the file path\n",
        "file_path = 'example.txt'\n",
        "\n",
        "# Call the function to read and print the file content\n",
        "read_and_print_file(file_path)"
      ],
      "metadata": {
        "colab": {
          "base_uri": "https://localhost:8080/"
        },
        "id": "moJlfb8-zcRU",
        "outputId": "4dab6783-3d46-4e4a-a422-fc36b64b51b2"
      },
      "execution_count": null,
      "outputs": [
        {
          "output_type": "stream",
          "name": "stdout",
          "text": [
            "Hello, this is a sample string.This is the new data that will be appended.\n",
            "\n"
          ]
        }
      ]
    },
    {
      "cell_type": "markdown",
      "source": [
        "16.  Demonstrate how to use memory profiling to check the memory usage of a small program."
      ],
      "metadata": {
        "id": "2EV0F6tHzlRL"
      }
    },
    {
      "cell_type": "code",
      "source": [
        "pip install memory_profiler"
      ],
      "metadata": {
        "colab": {
          "base_uri": "https://localhost:8080/"
        },
        "id": "9NYcG7ixzkOc",
        "outputId": "69817fcf-6df4-402e-e000-bd36f5a26677"
      },
      "execution_count": null,
      "outputs": [
        {
          "output_type": "stream",
          "name": "stdout",
          "text": [
            "Collecting memory_profiler\n",
            "  Downloading memory_profiler-0.61.0-py3-none-any.whl.metadata (20 kB)\n",
            "Requirement already satisfied: psutil in /usr/local/lib/python3.11/dist-packages (from memory_profiler) (5.9.5)\n",
            "Downloading memory_profiler-0.61.0-py3-none-any.whl (31 kB)\n",
            "Installing collected packages: memory_profiler\n",
            "Successfully installed memory_profiler-0.61.0\n"
          ]
        }
      ]
    },
    {
      "cell_type": "code",
      "source": [
        "from memory_profiler import profile\n",
        "\n",
        "@profile\n",
        "def my_function():\n",
        "    # Allocate some memory by creating a large list\n",
        "    large_list = [i for i in range(1000000)]\n",
        "    return large_list\n",
        "\n",
        "if __name__ == \"__main__\":\n",
        "    my_function()"
      ],
      "metadata": {
        "colab": {
          "base_uri": "https://localhost:8080/"
        },
        "id": "vdPZeaER0jYi",
        "outputId": "142cc5b4-f56b-4e06-c0b2-e198e1998c88"
      },
      "execution_count": null,
      "outputs": [
        {
          "output_type": "stream",
          "name": "stderr",
          "text": [
            "\n",
            "PYDEV DEBUGGER WARNING:\n",
            "sys.settrace() should not be used when the debugger is being used.\n",
            "This may cause the debugger to stop working correctly.\n",
            "If this is needed, please check: \n",
            "http://pydev.blogspot.com/2007/06/why-cant-pydev-debugger-work-with.html\n",
            "to see how to restore the debug tracing back correctly.\n",
            "Call Location:\n",
            "  File \"/usr/local/lib/python3.11/dist-packages/memory_profiler.py\", line 847, in enable\n",
            "    sys.settrace(self.trace_memory_usage)\n",
            "\n"
          ]
        },
        {
          "output_type": "stream",
          "name": "stdout",
          "text": [
            "ERROR: Could not find file <ipython-input-18-805c39321e3b>\n",
            "NOTE: %mprun can only be used on functions defined in physical files, and not in the IPython environment.\n"
          ]
        },
        {
          "output_type": "stream",
          "name": "stderr",
          "text": [
            "\n",
            "PYDEV DEBUGGER WARNING:\n",
            "sys.settrace() should not be used when the debugger is being used.\n",
            "This may cause the debugger to stop working correctly.\n",
            "If this is needed, please check: \n",
            "http://pydev.blogspot.com/2007/06/why-cant-pydev-debugger-work-with.html\n",
            "to see how to restore the debug tracing back correctly.\n",
            "Call Location:\n",
            "  File \"/usr/local/lib/python3.11/dist-packages/memory_profiler.py\", line 850, in disable\n",
            "    sys.settrace(self._original_trace_function)\n",
            "\n"
          ]
        }
      ]
    },
    {
      "cell_type": "markdown",
      "source": [
        "17.  Write a Python program to create and write a list of numbers to a file, one number per line."
      ],
      "metadata": {
        "id": "mfCLoOJh0xTW"
      }
    },
    {
      "cell_type": "code",
      "source": [
        "# Define a list of numbers\n",
        "numbers = [1, 2, 3, 4, 5, 6, 7, 8, 9, 10]\n",
        "\n",
        "# Open the file in write mode\n",
        "with open('numbers.txt', 'w') as file:\n",
        "    # Iterate over each number in the list\n",
        "    for number in numbers:\n",
        "        # Write the number to the file, followed by a newline character\n",
        "        file.write(f'{number}\\n')\n",
        "\n",
        "print(\"Numbers have been written to 'numbers.txt' successfully.\")"
      ],
      "metadata": {
        "colab": {
          "base_uri": "https://localhost:8080/"
        },
        "id": "L60Xx-oT0mx5",
        "outputId": "9615274d-4be6-4cae-c24f-8e44e12a5e96"
      },
      "execution_count": null,
      "outputs": [
        {
          "output_type": "stream",
          "name": "stdout",
          "text": [
            "Numbers have been written to 'numbers.txt' successfully.\n"
          ]
        }
      ]
    },
    {
      "cell_type": "markdown",
      "source": [
        "18. How would you implement a basic logging setup that logs to a file with rotation after 1MB?"
      ],
      "metadata": {
        "id": "y6Q3I3zN06nh"
      }
    },
    {
      "cell_type": "code",
      "source": [
        "import logging\n",
        "from logging.handlers import RotatingFileHandler\n",
        "\n",
        "# Create a logger\n",
        "logger = logging.getLogger('my_logger')\n",
        "logger.setLevel(logging.DEBUG)\n",
        "\n",
        "# Create a rotating file handler\n",
        "handler = RotatingFileHandler('my_log.log', maxBytes=1 * 1024 * 1024, backupCount=3)\n",
        "handler.setLevel(logging.DEBUG)\n",
        "\n",
        "# Create a formatter and set it for the handler\n",
        "formatter = logging.Formatter('%(asctime)s - %(levelname)s - %(message)s')\n",
        "handler.setFormatter(formatter)\n",
        "\n",
        "# Add the handler to the logger\n",
        "logger.addHandler(handler)\n",
        "\n",
        "# Log some messages\n",
        "logger.debug('This is a debug message.')\n",
        "logger.info('This is an info message.')\n",
        "logger.warning('This is a warning message.')\n",
        "logger.error('This is an error message.')\n",
        "logger.critical('This is a critical message.')\n",
        "\n",
        "print(\"Logging setup with rotation after 1MB is complete. Check the 'my_log.log' file for log entries.\")"
      ],
      "metadata": {
        "colab": {
          "base_uri": "https://localhost:8080/"
        },
        "id": "wstF4T6P01IZ",
        "outputId": "efa7567d-a684-463e-e05d-8ecd0f4b713c"
      },
      "execution_count": null,
      "outputs": [
        {
          "output_type": "stream",
          "name": "stderr",
          "text": [
            "DEBUG:my_logger:This is a debug message.\n",
            "INFO:my_logger:This is an info message.\n",
            "WARNING:my_logger:This is a warning message.\n",
            "ERROR:my_logger:This is an error message.\n",
            "CRITICAL:my_logger:This is a critical message.\n"
          ]
        },
        {
          "output_type": "stream",
          "name": "stdout",
          "text": [
            "Logging setup with rotation after 1MB is complete. Check the 'my_log.log' file for log entries.\n"
          ]
        }
      ]
    },
    {
      "cell_type": "markdown",
      "source": [
        "19.  Write a program that handles both IndexError and KeyError using a try-except block."
      ],
      "metadata": {
        "id": "UNNoY__l1BnQ"
      }
    },
    {
      "cell_type": "code",
      "source": [
        "def handle_exceptions():\n",
        "    # Define a list and a dictionary\n",
        "    my_list = [1, 2, 3]\n",
        "    my_dict = {'name': 'Alice', 'age': 30}\n",
        "\n",
        "    try:\n",
        "        # Attempt to access an invalid index in the list\n",
        "        list_item = my_list[5]\n",
        "        print(\"List item:\", list_item)\n",
        "\n",
        "        # Attempt to access a non-existent key in the dictionary\n",
        "        dict_item = my_dict['city']\n",
        "        print(\"Dictionary item:\", dict_item)\n",
        "\n",
        "    except IndexError:\n",
        "        # Handle the index error\n",
        "        print(\"Error: Index out of range. Please enter a valid index.\")\n",
        "\n",
        "    except KeyError:\n",
        "        # Handle the key error\n",
        "        print(\"Error: The specified key does not exist in the dictionary.\")\n",
        "\n",
        "    else:\n",
        "        # This block will execute if no exception occurs\n",
        "        print(\"No exceptions occurred.\")\n",
        "\n",
        "    finally:\n",
        "        # This block will always execute, regardless of an exception occurring or not\n",
        "        print(\"Exception handling demonstration completed.\")\n",
        "\n",
        "# Call the function to demonstrate exception handling\n",
        "handle_exceptions()"
      ],
      "metadata": {
        "colab": {
          "base_uri": "https://localhost:8080/"
        },
        "id": "-ysvYSmI0_1J",
        "outputId": "32be78da-ef6a-4eeb-d439-e08f94b88572"
      },
      "execution_count": null,
      "outputs": [
        {
          "output_type": "stream",
          "name": "stdout",
          "text": [
            "Error: Index out of range. Please enter a valid index.\n",
            "Exception handling demonstration completed.\n"
          ]
        }
      ]
    },
    {
      "cell_type": "markdown",
      "source": [
        "20.  How would you open a file and read its contents using a context manager in Python?"
      ],
      "metadata": {
        "id": "7B8bAYaB2weM"
      }
    },
    {
      "cell_type": "code",
      "source": [
        "# Open the file in read mode using a context manager\n",
        "with open('example.txt', 'r') as file:\n",
        "    # Read the contents of the file\n",
        "    content = file.read()\n",
        "\n",
        "# Print the contents of the file\n",
        "print(content)"
      ],
      "metadata": {
        "colab": {
          "base_uri": "https://localhost:8080/"
        },
        "id": "s1jpz0Ru1LGZ",
        "outputId": "57aee110-8c3f-4399-d936-4cf3f9e0bbd9"
      },
      "execution_count": null,
      "outputs": [
        {
          "output_type": "stream",
          "name": "stdout",
          "text": [
            "Hello, this is a sample string.This is the new data that will be appended.\n",
            "\n"
          ]
        }
      ]
    },
    {
      "cell_type": "markdown",
      "source": [
        "21.  Write a Python program that reads a file and prints the number of occurrences of a specific word."
      ],
      "metadata": {
        "id": "a1Y7lGkl25vc"
      }
    },
    {
      "cell_type": "code",
      "source": [
        "def count_word_occurrences(file_path, target_word):\n",
        "    try:\n",
        "        # Open the file in read mode\n",
        "        with open(file_path, 'r') as file:\n",
        "            # Read the contents of the file\n",
        "            content = file.read()\n",
        "\n",
        "            # Count the number of occurrences of the target word\n",
        "            word_count = content.lower().split().count(target_word.lower())\n",
        "\n",
        "            # Print the number of occurrences\n",
        "            print(f\"The word '{target_word}' occurs {word_count} times in the file.\")\n",
        "    except FileNotFoundError:\n",
        "        # Handle the case where the file doesn't exist\n",
        "        print(f\"Error: The file '{file_path}' does not exist. Please check the file name and try again.\")\n",
        "    except IOError:\n",
        "        # Handle other input/output errors\n",
        "        print(\"Error: An I/O error occurred while opening the file.\")\n",
        "\n",
        "# Provide the file path and the target word\n",
        "file_path = 'example.txt'\n",
        "target_word = 'example'\n",
        "\n",
        "# Call the function to count and print word occurrences\n",
        "count_word_occurrences(file_path, target_word)"
      ],
      "metadata": {
        "colab": {
          "base_uri": "https://localhost:8080/"
        },
        "id": "SpuUd0or25BF",
        "outputId": "54f3f884-fad2-4867-a67d-4e4d77a6b987"
      },
      "execution_count": null,
      "outputs": [
        {
          "output_type": "stream",
          "name": "stdout",
          "text": [
            "The word 'example' occurs 0 times in the file.\n"
          ]
        }
      ]
    },
    {
      "cell_type": "markdown",
      "source": [
        "22. How can you check if a file is empty before attempting to read its contents?"
      ],
      "metadata": {
        "id": "76fWRPSY2_ZW"
      }
    },
    {
      "cell_type": "code",
      "source": [
        "import os\n",
        "\n",
        "# Define the file path\n",
        "file_path = 'example.txt'\n",
        "\n",
        "# Check if the file exists\n",
        "if os.path.exists(file_path):\n",
        "    # Check if the file is empty\n",
        "    if os.path.getsize(file_path) == 0:\n",
        "        print(f\"The file '{file_path}' is empty.\")\n",
        "    else:\n",
        "        # Open and read the file if it is not empty\n",
        "        with open(file_path, 'r') as file:\n",
        "            content = file.read()\n",
        "            print(content)\n",
        "else:\n",
        "    print(f\"Error: The file '{file_path}' does not exist.\")"
      ],
      "metadata": {
        "colab": {
          "base_uri": "https://localhost:8080/"
        },
        "id": "5voGb0Tc2-Y9",
        "outputId": "6f326d85-fb0a-415c-d506-b6f99ebac087"
      },
      "execution_count": null,
      "outputs": [
        {
          "output_type": "stream",
          "name": "stdout",
          "text": [
            "Hello, this is a sample string.This is the new data that will be appended.\n",
            "\n"
          ]
        }
      ]
    },
    {
      "cell_type": "markdown",
      "source": [
        "23. Write a Python program that writes to a log file when an error occurs during file handling."
      ],
      "metadata": {
        "id": "SJkgBJN83HeF"
      }
    },
    {
      "cell_type": "code",
      "source": [
        "import logging\n",
        "\n",
        "# Configure the logging settings\n",
        "logging.basicConfig(filename='file_errors.log', level=logging.ERROR, format='%(asctime)s - %(levelname)s - %(message)s')\n",
        "\n",
        "def read_file(file_path):\n",
        "    try:\n",
        "        # Attempt to open the file in read mode\n",
        "        with open(file_path, 'r') as file:\n",
        "            content = file.read()\n",
        "            print(content)\n",
        "    except FileNotFoundError:\n",
        "        # Log the error message when the file doesn't exist\n",
        "        logging.error(f\"Error: The file '{file_path}' does not exist.\")\n",
        "    except IOError:\n",
        "        # Log other input/output errors\n",
        "        logging.error(f\"Error: An I/O error occurred while opening the file '{file_path}'.\")\n",
        "\n",
        "# Provide the file path\n",
        "file_path = 'example.txt'\n",
        "\n",
        "# Call the function to read the file\n",
        "read_file(file_path)\n",
        "\n",
        "print(\"Check the 'file_errors.log' file for any logged error messages.\")"
      ],
      "metadata": {
        "colab": {
          "base_uri": "https://localhost:8080/"
        },
        "id": "J3Ke1v7A3GHN",
        "outputId": "f97f71b9-479a-4ead-8737-13bc17b79b38"
      },
      "execution_count": null,
      "outputs": [
        {
          "output_type": "stream",
          "name": "stdout",
          "text": [
            "Hello, this is a sample string.This is the new data that will be appended.\n",
            "\n",
            "Check the 'file_errors.log' file for any logged error messages.\n"
          ]
        }
      ]
    },
    {
      "cell_type": "code",
      "source": [],
      "metadata": {
        "id": "h8zFdRkL3Pt8"
      },
      "execution_count": null,
      "outputs": []
    }
  ]
}